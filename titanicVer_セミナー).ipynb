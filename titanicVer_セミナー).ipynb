{
  "nbformat": 4,
  "nbformat_minor": 0,
  "metadata": {
    "colab": {
      "name": "titanicVer.セミナー).ipynb",
      "version": "0.3.2",
      "provenance": [],
      "collapsed_sections": [],
      "include_colab_link": true
    },
    "kernelspec": {
      "name": "python3",
      "display_name": "Python 3"
    }
  },
  "cells": [
    {
      "cell_type": "markdown",
      "metadata": {
        "id": "view-in-github",
        "colab_type": "text"
      },
      "source": [
        "<a href=\"https://colab.research.google.com/github/suirindo/Bird/blob/master/titanicVer_%E3%82%BB%E3%83%9F%E3%83%8A%E3%83%BC).ipynb\" target=\"_parent\"><img src=\"https://colab.research.google.com/assets/colab-badge.svg\" alt=\"Open In Colab\"/></a>"
      ]
    },
    {
      "cell_type": "markdown",
      "metadata": {
        "id": "5VldRI-DjAtP",
        "colab_type": "text"
      },
      "source": [
        "参照URL\n",
        "\n",
        "**codeExa**:\n",
        "\n",
        "https://ct-innovation01.xyz/DL-Freetime/kaggle-003/\n",
        "\n",
        "**趣味で始める機械学習**\n",
        "\n",
        "https://ct-innovation01.xyz/DL-Freetime/kaggle-003/\n",
        "\n",
        "**DeepAge**\n",
        "\n",
        "https://deepage.net/features/pandas-describe.html\n",
        "\n",
        "**csvファイルのデータのうち特定の値の個数をカウントする方法**\n",
        "\n",
        "https://teratail.com/questions/170396\n",
        "\n",
        "\n",
        "\n",
        "**KATUBLO | エンジニアの日常BLOG**\n",
        "https://katuo-ai.com/2018/12/24/kaggle_titanic/#Cabin"
      ]
    },
    {
      "cell_type": "markdown",
      "metadata": {
        "id": "SPUB3euih4mR",
        "colab_type": "text"
      },
      "source": [
        "# **事前準備**"
      ]
    },
    {
      "cell_type": "markdown",
      "metadata": {
        "id": "84A7ioUeZsbx",
        "colab_type": "text"
      },
      "source": [
        "## **タイタニック号のデータセットを準備**\n",
        "\n",
        "1:下記2つのファイルをダウンロード。（https://www.kaggle.com/c/titanic/data）\n",
        "[train.csv] [test.csv]\n",
        "\n",
        "2:[titanic]と命名したフォルダに格納し、zip形式で圧縮する。[titanic.zip]となる。\n",
        "\n",
        "\n",
        "3:[titanic.zip]をgoogle driveへアップロードする。\n"
      ]
    },
    {
      "cell_type": "code",
      "metadata": {
        "id": "DCFwsNSBe83x",
        "colab_type": "code",
        "colab": {}
      },
      "source": [
        "# 機械学習ライブラリのインポート\n",
        "from sklearn import preprocessing\n",
        "from sklearn.preprocessing import LabelEncoder\n",
        "from sklearn.metrics import accuracy_score\n",
        "from sklearn.model_selection import GridSearchCV\n",
        "from sklearn.model_selection import cross_val_score\n",
        "from sklearn.linear_model import LogisticRegression\n",
        "from sklearn.ensemble import RandomForestClassifier\n",
        "from sklearn.svm import SVC\n",
        "\n",
        "import pandas as pd\n",
        "import seaborn as sns\n",
        "import matplotlib.pyplot as plt\n",
        "import numpy as  np\n",
        "import os\n",
        " \n",
        "%matplotlib inline"
      ],
      "execution_count": 0,
      "outputs": []
    },
    {
      "cell_type": "code",
      "metadata": {
        "id": "vhNwW64oT7rU",
        "colab_type": "code",
        "colab": {}
      },
      "source": [
        "#Googleドライブ \n",
        "import google.colab\n",
        "import googleapiclient.discovery\n",
        "import googleapiclient.http"
      ],
      "execution_count": 0,
      "outputs": []
    },
    {
      "cell_type": "code",
      "metadata": {
        "id": "wtIP0yBBXelK",
        "colab_type": "code",
        "colab": {}
      },
      "source": [
        "#colabからgoogleDriveへの認証と接続\n",
        "google.colab.auth.authenticate_user()\n",
        "drive_service = googleapiclient.discovery.build('drive', 'v3')"
      ],
      "execution_count": 0,
      "outputs": []
    },
    {
      "cell_type": "code",
      "metadata": {
        "id": "7TFGdw7UYOEw",
        "colab_type": "code",
        "outputId": "871bded9-6611-406b-e23a-3a8372899b78",
        "colab": {
          "base_uri": "https://localhost:8080/",
          "height": 51
        }
      },
      "source": [
        "#colab環境でのファイルの取り込み\n",
        "upload_filename = 'titanic.zip'\n",
        "\n",
        "file_list = drive_service.files().list(q=\"name='\" + upload_filename + \"'\").execute().get('files')\n",
        "\n",
        "#ファイルIDの取得\n",
        "file_ID = None\n",
        "for file in file_list:\n",
        "  if file.get('name') == upload_filename:\n",
        "    file_id = file.get('id')\n",
        "    break\n",
        "\n",
        "if file_id is None:\n",
        "  #ファイルIDを取得できなかった場合はエラーメッセージを出力\n",
        "  print(upload_filename + ' が見つかりません')\n",
        "else:\n",
        "  # colab環境へファイルをアップロードする\n",
        "  with open(upload_filename, 'wb') as f:\n",
        "    request = drive_service.files().get_media(fileId=file_id)\n",
        "    media = googleapiclient.http.MediaIoBaseDownload(f, request)\n",
        "    \n",
        "    done = False\n",
        "    while not done:\n",
        "      progress_status, done = media.next_chunk()\n",
        "      print(100*progress_status.progress(), end=\"\")\n",
        "      print(\"%完了\")\n",
        "\n",
        "print('GoogleドライブからColab環境へのファイル取り込みが完了')\n"
      ],
      "execution_count": 0,
      "outputs": [
        {
          "output_type": "stream",
          "text": [
            "100.0%完了\n",
            "GoogleドライブからColab環境へのファイル取り込みが完了\n"
          ],
          "name": "stdout"
        }
      ]
    },
    {
      "cell_type": "code",
      "metadata": {
        "id": "BcNeoqGCgjTT",
        "colab_type": "code",
        "outputId": "0c38ef84-dc22-40cb-8150-9d99c378836e",
        "colab": {
          "base_uri": "https://localhost:8080/",
          "height": 34
        }
      },
      "source": [
        "#colab上にあるデータの確認\n",
        "!ls"
      ],
      "execution_count": 0,
      "outputs": [
        {
          "output_type": "stream",
          "text": [
            "adc.json  sample_data  titanic.zip\n"
          ],
          "name": "stdout"
        }
      ]
    },
    {
      "cell_type": "code",
      "metadata": {
        "id": "5bCMIWIkg9eg",
        "colab_type": "code",
        "outputId": "a7f76aed-7369-48b8-ffd0-3139baaf49f6",
        "colab": {
          "base_uri": "https://localhost:8080/",
          "height": 68
        }
      },
      "source": [
        "#zipフォルダの解凍\n",
        "!unzip titanic.zip"
      ],
      "execution_count": 0,
      "outputs": [
        {
          "output_type": "stream",
          "text": [
            "Archive:  titanic.zip\n",
            "  inflating: titanic/test.csv        \n",
            "  inflating: titanic/train.csv       \n"
          ],
          "name": "stdout"
        }
      ]
    },
    {
      "cell_type": "markdown",
      "metadata": {
        "id": "qQB_3cQXiBej",
        "colab_type": "text"
      },
      "source": [
        "# **データの確認、探索的データ解析（EDA）**\n",
        "\n",
        "EDA =　データの特徴を探求し、構造を理解すること。\n",
        "機械学習（というより、統計を扱う上で）では重要なタスクの一つ"
      ]
    },
    {
      "cell_type": "code",
      "metadata": {
        "id": "L5ztm8LGzkgq",
        "colab_type": "code",
        "outputId": "37953443-ddc4-4918-a808-a11e5f50c51f",
        "colab": {
          "base_uri": "https://localhost:8080/",
          "height": 496
        }
      },
      "source": [
        "#データの読み込み\n",
        "\n",
        "\n",
        "#訓練データの定義\n",
        "train = pd.read_csv('./titanic/train.csv')\n",
        "#テストデータの定義\n",
        "test = pd.read_csv('./titanic/test.csv')\n",
        "#データの確認（訓練データにどんなデータが入っているか）\n",
        "train.head()"
      ],
      "execution_count": 0,
      "outputs": [
        {
          "output_type": "execute_result",
          "data": {
            "text/html": [
              "<div>\n",
              "<style scoped>\n",
              "    .dataframe tbody tr th:only-of-type {\n",
              "        vertical-align: middle;\n",
              "    }\n",
              "\n",
              "    .dataframe tbody tr th {\n",
              "        vertical-align: top;\n",
              "    }\n",
              "\n",
              "    .dataframe thead th {\n",
              "        text-align: right;\n",
              "    }\n",
              "</style>\n",
              "<table border=\"1\" class=\"dataframe\">\n",
              "  <thead>\n",
              "    <tr style=\"text-align: right;\">\n",
              "      <th></th>\n",
              "      <th>PassengerId</th>\n",
              "      <th>Survived</th>\n",
              "      <th>Pclass</th>\n",
              "      <th>Name</th>\n",
              "      <th>Sex</th>\n",
              "      <th>Age</th>\n",
              "      <th>SibSp</th>\n",
              "      <th>Parch</th>\n",
              "      <th>Ticket</th>\n",
              "      <th>Fare</th>\n",
              "      <th>Cabin</th>\n",
              "      <th>Embarked</th>\n",
              "    </tr>\n",
              "  </thead>\n",
              "  <tbody>\n",
              "    <tr>\n",
              "      <th>0</th>\n",
              "      <td>1</td>\n",
              "      <td>0</td>\n",
              "      <td>3</td>\n",
              "      <td>Braund, Mr. Owen Harris</td>\n",
              "      <td>male</td>\n",
              "      <td>22.0</td>\n",
              "      <td>1</td>\n",
              "      <td>0</td>\n",
              "      <td>A/5 21171</td>\n",
              "      <td>7.2500</td>\n",
              "      <td>NaN</td>\n",
              "      <td>S</td>\n",
              "    </tr>\n",
              "    <tr>\n",
              "      <th>1</th>\n",
              "      <td>2</td>\n",
              "      <td>1</td>\n",
              "      <td>1</td>\n",
              "      <td>Cumings, Mrs. John Bradley (Florence Briggs Th...</td>\n",
              "      <td>female</td>\n",
              "      <td>38.0</td>\n",
              "      <td>1</td>\n",
              "      <td>0</td>\n",
              "      <td>PC 17599</td>\n",
              "      <td>71.2833</td>\n",
              "      <td>C85</td>\n",
              "      <td>C</td>\n",
              "    </tr>\n",
              "    <tr>\n",
              "      <th>2</th>\n",
              "      <td>3</td>\n",
              "      <td>1</td>\n",
              "      <td>3</td>\n",
              "      <td>Heikkinen, Miss. Laina</td>\n",
              "      <td>female</td>\n",
              "      <td>26.0</td>\n",
              "      <td>0</td>\n",
              "      <td>0</td>\n",
              "      <td>STON/O2. 3101282</td>\n",
              "      <td>7.9250</td>\n",
              "      <td>NaN</td>\n",
              "      <td>S</td>\n",
              "    </tr>\n",
              "    <tr>\n",
              "      <th>3</th>\n",
              "      <td>4</td>\n",
              "      <td>1</td>\n",
              "      <td>1</td>\n",
              "      <td>Futrelle, Mrs. Jacques Heath (Lily May Peel)</td>\n",
              "      <td>female</td>\n",
              "      <td>35.0</td>\n",
              "      <td>1</td>\n",
              "      <td>0</td>\n",
              "      <td>113803</td>\n",
              "      <td>53.1000</td>\n",
              "      <td>C123</td>\n",
              "      <td>S</td>\n",
              "    </tr>\n",
              "    <tr>\n",
              "      <th>4</th>\n",
              "      <td>5</td>\n",
              "      <td>0</td>\n",
              "      <td>3</td>\n",
              "      <td>Allen, Mr. William Henry</td>\n",
              "      <td>male</td>\n",
              "      <td>35.0</td>\n",
              "      <td>0</td>\n",
              "      <td>0</td>\n",
              "      <td>373450</td>\n",
              "      <td>8.0500</td>\n",
              "      <td>NaN</td>\n",
              "      <td>S</td>\n",
              "    </tr>\n",
              "  </tbody>\n",
              "</table>\n",
              "</div>"
            ],
            "text/plain": [
              "   PassengerId  Survived  Pclass  ...     Fare Cabin  Embarked\n",
              "0            1         0       3  ...   7.2500   NaN         S\n",
              "1            2         1       1  ...  71.2833   C85         C\n",
              "2            3         1       3  ...   7.9250   NaN         S\n",
              "3            4         1       1  ...  53.1000  C123         S\n",
              "4            5         0       3  ...   8.0500   NaN         S\n",
              "\n",
              "[5 rows x 12 columns]"
            ]
          },
          "metadata": {
            "tags": []
          },
          "execution_count": 8
        }
      ]
    },
    {
      "cell_type": "markdown",
      "metadata": {
        "id": "OHaapCWDi1la",
        "colab_type": "text"
      },
      "source": [
        "### **各項目の詳細説明**\n",
        "\n",
        "PassengerId – 乗客識別ユニークID\n",
        "\n",
        "Survived – 生存フラグ（0=死亡、1=生存）\n",
        "\n",
        "Pclass – チケットクラス\n",
        "\n",
        "Name – 乗客の名前\n",
        "\n",
        "Sex – 性別（male=男性、female＝女性）\n",
        "\n",
        "Age – 年齢\n",
        "\n",
        "SibSp – タイタニックに同乗している兄弟/配偶者の数\n",
        "\n",
        "parch – タイタニックに同乗している親/子供の数\n",
        "\n",
        "ticket – チケット番号\n",
        "\n",
        "fare – 料金\n",
        "\n",
        "cabin – 客室番号\n",
        "\n",
        "Embarked – 出港地（タイタニックへ乗った港）\n",
        "\n",
        "\n",
        "**pclass = チケットクラス**\n",
        "\n",
        "1 = 上層クラス（お金持ち）\n",
        "\n",
        "2 = 中級クラス（一般階級）\n",
        "\n",
        "3 = 下層クラス（労働階級）\n",
        "\n",
        "\n",
        "\n",
        "**Embarked = 各変数の定義は下記の通り**\n",
        "\n",
        "C = Cherbourg\n",
        "\n",
        "Q = Queenstown\n",
        "\n",
        "S = Southampton"
      ]
    },
    {
      "cell_type": "code",
      "metadata": {
        "id": "U-IVU1rxzkls",
        "colab_type": "code",
        "outputId": "b31d83c3-fff1-4681-e129-30eb1611e02e",
        "colab": {
          "base_uri": "https://localhost:8080/",
          "height": 428
        }
      },
      "source": [
        "#データの確認（テストデータにどんなデータが入っているか）\n",
        "test.head()"
      ],
      "execution_count": 0,
      "outputs": [
        {
          "output_type": "execute_result",
          "data": {
            "text/html": [
              "<div>\n",
              "<style scoped>\n",
              "    .dataframe tbody tr th:only-of-type {\n",
              "        vertical-align: middle;\n",
              "    }\n",
              "\n",
              "    .dataframe tbody tr th {\n",
              "        vertical-align: top;\n",
              "    }\n",
              "\n",
              "    .dataframe thead th {\n",
              "        text-align: right;\n",
              "    }\n",
              "</style>\n",
              "<table border=\"1\" class=\"dataframe\">\n",
              "  <thead>\n",
              "    <tr style=\"text-align: right;\">\n",
              "      <th></th>\n",
              "      <th>PassengerId</th>\n",
              "      <th>Pclass</th>\n",
              "      <th>Name</th>\n",
              "      <th>Sex</th>\n",
              "      <th>Age</th>\n",
              "      <th>SibSp</th>\n",
              "      <th>Parch</th>\n",
              "      <th>Ticket</th>\n",
              "      <th>Fare</th>\n",
              "      <th>Cabin</th>\n",
              "      <th>Embarked</th>\n",
              "    </tr>\n",
              "  </thead>\n",
              "  <tbody>\n",
              "    <tr>\n",
              "      <th>0</th>\n",
              "      <td>892</td>\n",
              "      <td>3</td>\n",
              "      <td>Kelly, Mr. James</td>\n",
              "      <td>male</td>\n",
              "      <td>34.5</td>\n",
              "      <td>0</td>\n",
              "      <td>0</td>\n",
              "      <td>330911</td>\n",
              "      <td>7.8292</td>\n",
              "      <td>NaN</td>\n",
              "      <td>Q</td>\n",
              "    </tr>\n",
              "    <tr>\n",
              "      <th>1</th>\n",
              "      <td>893</td>\n",
              "      <td>3</td>\n",
              "      <td>Wilkes, Mrs. James (Ellen Needs)</td>\n",
              "      <td>female</td>\n",
              "      <td>47.0</td>\n",
              "      <td>1</td>\n",
              "      <td>0</td>\n",
              "      <td>363272</td>\n",
              "      <td>7.0000</td>\n",
              "      <td>NaN</td>\n",
              "      <td>S</td>\n",
              "    </tr>\n",
              "    <tr>\n",
              "      <th>2</th>\n",
              "      <td>894</td>\n",
              "      <td>2</td>\n",
              "      <td>Myles, Mr. Thomas Francis</td>\n",
              "      <td>male</td>\n",
              "      <td>62.0</td>\n",
              "      <td>0</td>\n",
              "      <td>0</td>\n",
              "      <td>240276</td>\n",
              "      <td>9.6875</td>\n",
              "      <td>NaN</td>\n",
              "      <td>Q</td>\n",
              "    </tr>\n",
              "    <tr>\n",
              "      <th>3</th>\n",
              "      <td>895</td>\n",
              "      <td>3</td>\n",
              "      <td>Wirz, Mr. Albert</td>\n",
              "      <td>male</td>\n",
              "      <td>27.0</td>\n",
              "      <td>0</td>\n",
              "      <td>0</td>\n",
              "      <td>315154</td>\n",
              "      <td>8.6625</td>\n",
              "      <td>NaN</td>\n",
              "      <td>S</td>\n",
              "    </tr>\n",
              "    <tr>\n",
              "      <th>4</th>\n",
              "      <td>896</td>\n",
              "      <td>3</td>\n",
              "      <td>Hirvonen, Mrs. Alexander (Helga E Lindqvist)</td>\n",
              "      <td>female</td>\n",
              "      <td>22.0</td>\n",
              "      <td>1</td>\n",
              "      <td>1</td>\n",
              "      <td>3101298</td>\n",
              "      <td>12.2875</td>\n",
              "      <td>NaN</td>\n",
              "      <td>S</td>\n",
              "    </tr>\n",
              "  </tbody>\n",
              "</table>\n",
              "</div>"
            ],
            "text/plain": [
              "   PassengerId  Pclass  ... Cabin Embarked\n",
              "0          892       3  ...   NaN        Q\n",
              "1          893       3  ...   NaN        S\n",
              "2          894       2  ...   NaN        Q\n",
              "3          895       3  ...   NaN        S\n",
              "4          896       3  ...   NaN        S\n",
              "\n",
              "[5 rows x 11 columns]"
            ]
          },
          "metadata": {
            "tags": []
          },
          "execution_count": 9
        }
      ]
    },
    {
      "cell_type": "code",
      "metadata": {
        "id": "EIeS7bpNkpBl",
        "colab_type": "code",
        "outputId": "5cc9da6e-cdeb-4217-84fd-61bfad7aab7e",
        "colab": {
          "base_uri": "https://localhost:8080/",
          "height": 51
        }
      },
      "source": [
        "#データサイズの確認\n",
        "train_shape = train.shape\n",
        "test_shape = test.shape\n",
        "\n",
        "print(train_shape)\n",
        "print(test_shape)"
      ],
      "execution_count": 0,
      "outputs": [
        {
          "output_type": "stream",
          "text": [
            "(891, 12)\n",
            "(418, 11)\n"
          ],
          "name": "stdout"
        }
      ]
    },
    {
      "cell_type": "code",
      "metadata": {
        "id": "3EZFDtf3lhiE",
        "colab_type": "code",
        "outputId": "18cdbf52-d60c-496b-8130-e4ffadbd0c61",
        "colab": {
          "base_uri": "https://localhost:8080/",
          "height": 317
        }
      },
      "source": [
        "#データの基本統計量の確認\n",
        "train.describe()"
      ],
      "execution_count": 0,
      "outputs": [
        {
          "output_type": "execute_result",
          "data": {
            "text/html": [
              "<div>\n",
              "<style scoped>\n",
              "    .dataframe tbody tr th:only-of-type {\n",
              "        vertical-align: middle;\n",
              "    }\n",
              "\n",
              "    .dataframe tbody tr th {\n",
              "        vertical-align: top;\n",
              "    }\n",
              "\n",
              "    .dataframe thead th {\n",
              "        text-align: right;\n",
              "    }\n",
              "</style>\n",
              "<table border=\"1\" class=\"dataframe\">\n",
              "  <thead>\n",
              "    <tr style=\"text-align: right;\">\n",
              "      <th></th>\n",
              "      <th>PassengerId</th>\n",
              "      <th>Survived</th>\n",
              "      <th>Pclass</th>\n",
              "      <th>Age</th>\n",
              "      <th>SibSp</th>\n",
              "      <th>Parch</th>\n",
              "      <th>Fare</th>\n",
              "    </tr>\n",
              "  </thead>\n",
              "  <tbody>\n",
              "    <tr>\n",
              "      <th>count</th>\n",
              "      <td>891.000000</td>\n",
              "      <td>891.000000</td>\n",
              "      <td>891.000000</td>\n",
              "      <td>714.000000</td>\n",
              "      <td>891.000000</td>\n",
              "      <td>891.000000</td>\n",
              "      <td>891.000000</td>\n",
              "    </tr>\n",
              "    <tr>\n",
              "      <th>mean</th>\n",
              "      <td>446.000000</td>\n",
              "      <td>0.383838</td>\n",
              "      <td>2.308642</td>\n",
              "      <td>29.699118</td>\n",
              "      <td>0.523008</td>\n",
              "      <td>0.381594</td>\n",
              "      <td>32.204208</td>\n",
              "    </tr>\n",
              "    <tr>\n",
              "      <th>std</th>\n",
              "      <td>257.353842</td>\n",
              "      <td>0.486592</td>\n",
              "      <td>0.836071</td>\n",
              "      <td>14.526497</td>\n",
              "      <td>1.102743</td>\n",
              "      <td>0.806057</td>\n",
              "      <td>49.693429</td>\n",
              "    </tr>\n",
              "    <tr>\n",
              "      <th>min</th>\n",
              "      <td>1.000000</td>\n",
              "      <td>0.000000</td>\n",
              "      <td>1.000000</td>\n",
              "      <td>0.420000</td>\n",
              "      <td>0.000000</td>\n",
              "      <td>0.000000</td>\n",
              "      <td>0.000000</td>\n",
              "    </tr>\n",
              "    <tr>\n",
              "      <th>25%</th>\n",
              "      <td>223.500000</td>\n",
              "      <td>0.000000</td>\n",
              "      <td>2.000000</td>\n",
              "      <td>20.125000</td>\n",
              "      <td>0.000000</td>\n",
              "      <td>0.000000</td>\n",
              "      <td>7.910400</td>\n",
              "    </tr>\n",
              "    <tr>\n",
              "      <th>50%</th>\n",
              "      <td>446.000000</td>\n",
              "      <td>0.000000</td>\n",
              "      <td>3.000000</td>\n",
              "      <td>28.000000</td>\n",
              "      <td>0.000000</td>\n",
              "      <td>0.000000</td>\n",
              "      <td>14.454200</td>\n",
              "    </tr>\n",
              "    <tr>\n",
              "      <th>75%</th>\n",
              "      <td>668.500000</td>\n",
              "      <td>1.000000</td>\n",
              "      <td>3.000000</td>\n",
              "      <td>38.000000</td>\n",
              "      <td>1.000000</td>\n",
              "      <td>0.000000</td>\n",
              "      <td>31.000000</td>\n",
              "    </tr>\n",
              "    <tr>\n",
              "      <th>max</th>\n",
              "      <td>891.000000</td>\n",
              "      <td>1.000000</td>\n",
              "      <td>3.000000</td>\n",
              "      <td>80.000000</td>\n",
              "      <td>8.000000</td>\n",
              "      <td>6.000000</td>\n",
              "      <td>512.329200</td>\n",
              "    </tr>\n",
              "  </tbody>\n",
              "</table>\n",
              "</div>"
            ],
            "text/plain": [
              "       PassengerId    Survived      Pclass  ...       SibSp       Parch        Fare\n",
              "count   891.000000  891.000000  891.000000  ...  891.000000  891.000000  891.000000\n",
              "mean    446.000000    0.383838    2.308642  ...    0.523008    0.381594   32.204208\n",
              "std     257.353842    0.486592    0.836071  ...    1.102743    0.806057   49.693429\n",
              "min       1.000000    0.000000    1.000000  ...    0.000000    0.000000    0.000000\n",
              "25%     223.500000    0.000000    2.000000  ...    0.000000    0.000000    7.910400\n",
              "50%     446.000000    0.000000    3.000000  ...    0.000000    0.000000   14.454200\n",
              "75%     668.500000    1.000000    3.000000  ...    1.000000    0.000000   31.000000\n",
              "max     891.000000    1.000000    3.000000  ...    8.000000    6.000000  512.329200\n",
              "\n",
              "[8 rows x 7 columns]"
            ]
          },
          "metadata": {
            "tags": []
          },
          "execution_count": 11
        }
      ]
    },
    {
      "cell_type": "markdown",
      "metadata": {
        "id": "Qq2swuhkXyma",
        "colab_type": "text"
      },
      "source": [
        "## **各項目の詳細説明**\n",
        "\n",
        "count データの個数\n",
        "\n",
        "mean 数値データの平均\n",
        "\n",
        "std 数値データの標準偏差\n",
        "\n",
        "min 最小値\n",
        "\n",
        "max 最大値\n",
        "\n",
        "25%,50%,75% 四分位数\n",
        "\n",
        "(区切る部分はpercentiles引数で変更可能)"
      ]
    },
    {
      "cell_type": "code",
      "metadata": {
        "id": "8ewo5fDNlYTm",
        "colab_type": "code",
        "outputId": "f6d4a358-1c4b-4f90-f761-b0af818068fa",
        "colab": {
          "base_uri": "https://localhost:8080/",
          "height": 317
        }
      },
      "source": [
        "#データの基本統計量の確認\n",
        "test.describe()"
      ],
      "execution_count": 0,
      "outputs": [
        {
          "output_type": "execute_result",
          "data": {
            "text/html": [
              "<div>\n",
              "<style scoped>\n",
              "    .dataframe tbody tr th:only-of-type {\n",
              "        vertical-align: middle;\n",
              "    }\n",
              "\n",
              "    .dataframe tbody tr th {\n",
              "        vertical-align: top;\n",
              "    }\n",
              "\n",
              "    .dataframe thead th {\n",
              "        text-align: right;\n",
              "    }\n",
              "</style>\n",
              "<table border=\"1\" class=\"dataframe\">\n",
              "  <thead>\n",
              "    <tr style=\"text-align: right;\">\n",
              "      <th></th>\n",
              "      <th>PassengerId</th>\n",
              "      <th>Pclass</th>\n",
              "      <th>Age</th>\n",
              "      <th>SibSp</th>\n",
              "      <th>Parch</th>\n",
              "      <th>Fare</th>\n",
              "    </tr>\n",
              "  </thead>\n",
              "  <tbody>\n",
              "    <tr>\n",
              "      <th>count</th>\n",
              "      <td>418.000000</td>\n",
              "      <td>418.000000</td>\n",
              "      <td>332.000000</td>\n",
              "      <td>418.000000</td>\n",
              "      <td>418.000000</td>\n",
              "      <td>417.000000</td>\n",
              "    </tr>\n",
              "    <tr>\n",
              "      <th>mean</th>\n",
              "      <td>1100.500000</td>\n",
              "      <td>2.265550</td>\n",
              "      <td>30.272590</td>\n",
              "      <td>0.447368</td>\n",
              "      <td>0.392344</td>\n",
              "      <td>35.627188</td>\n",
              "    </tr>\n",
              "    <tr>\n",
              "      <th>std</th>\n",
              "      <td>120.810458</td>\n",
              "      <td>0.841838</td>\n",
              "      <td>14.181209</td>\n",
              "      <td>0.896760</td>\n",
              "      <td>0.981429</td>\n",
              "      <td>55.907576</td>\n",
              "    </tr>\n",
              "    <tr>\n",
              "      <th>min</th>\n",
              "      <td>892.000000</td>\n",
              "      <td>1.000000</td>\n",
              "      <td>0.170000</td>\n",
              "      <td>0.000000</td>\n",
              "      <td>0.000000</td>\n",
              "      <td>0.000000</td>\n",
              "    </tr>\n",
              "    <tr>\n",
              "      <th>25%</th>\n",
              "      <td>996.250000</td>\n",
              "      <td>1.000000</td>\n",
              "      <td>21.000000</td>\n",
              "      <td>0.000000</td>\n",
              "      <td>0.000000</td>\n",
              "      <td>7.895800</td>\n",
              "    </tr>\n",
              "    <tr>\n",
              "      <th>50%</th>\n",
              "      <td>1100.500000</td>\n",
              "      <td>3.000000</td>\n",
              "      <td>27.000000</td>\n",
              "      <td>0.000000</td>\n",
              "      <td>0.000000</td>\n",
              "      <td>14.454200</td>\n",
              "    </tr>\n",
              "    <tr>\n",
              "      <th>75%</th>\n",
              "      <td>1204.750000</td>\n",
              "      <td>3.000000</td>\n",
              "      <td>39.000000</td>\n",
              "      <td>1.000000</td>\n",
              "      <td>0.000000</td>\n",
              "      <td>31.500000</td>\n",
              "    </tr>\n",
              "    <tr>\n",
              "      <th>max</th>\n",
              "      <td>1309.000000</td>\n",
              "      <td>3.000000</td>\n",
              "      <td>76.000000</td>\n",
              "      <td>8.000000</td>\n",
              "      <td>9.000000</td>\n",
              "      <td>512.329200</td>\n",
              "    </tr>\n",
              "  </tbody>\n",
              "</table>\n",
              "</div>"
            ],
            "text/plain": [
              "       PassengerId      Pclass         Age       SibSp       Parch        Fare\n",
              "count   418.000000  418.000000  332.000000  418.000000  418.000000  417.000000\n",
              "mean   1100.500000    2.265550   30.272590    0.447368    0.392344   35.627188\n",
              "std     120.810458    0.841838   14.181209    0.896760    0.981429   55.907576\n",
              "min     892.000000    1.000000    0.170000    0.000000    0.000000    0.000000\n",
              "25%     996.250000    1.000000   21.000000    0.000000    0.000000    7.895800\n",
              "50%    1100.500000    3.000000   27.000000    0.000000    0.000000   14.454200\n",
              "75%    1204.750000    3.000000   39.000000    1.000000    0.000000   31.500000\n",
              "max    1309.000000    3.000000   76.000000    8.000000    9.000000  512.329200"
            ]
          },
          "metadata": {
            "tags": []
          },
          "execution_count": 12
        }
      ]
    },
    {
      "cell_type": "markdown",
      "metadata": {
        "id": "ZZiNsF23ltZs",
        "colab_type": "text"
      },
      "source": [
        "## **`データの前処理`**\n",
        "**＜欠損値の確認＞**\n",
        "\n",
        "\n",
        "欠損がある箇所へ適切な値を代入して補う。\n",
        "\n",
        "まずはデータに含まれる欠損値を確認する。"
      ]
    },
    {
      "cell_type": "code",
      "metadata": {
        "id": "tLwFFNY6mqAF",
        "colab_type": "code",
        "outputId": "b2729e1a-cca9-46ee-e0c8-058cfc9fe140",
        "colab": {
          "base_uri": "https://localhost:8080/",
          "height": 421
        }
      },
      "source": [
        "#欠損値の確認（train）\n",
        "# null:値の何も入ってないセルを示す\n",
        "def kesson_table(df): \n",
        "        null_val = df.isnull().sum()\n",
        "        percent = 100 * df.isnull().sum()/len(df)\n",
        "        kesson_table = pd.concat([null_val, percent], axis=1)\n",
        "        kesson_table_ren_columns = kesson_table.rename(\n",
        "        columns = {0 : '欠損数', 1 : '%'})\n",
        "        return kesson_table_ren_columns\n",
        " \n",
        "kesson_table(train)"
      ],
      "execution_count": 0,
      "outputs": [
        {
          "output_type": "execute_result",
          "data": {
            "text/html": [
              "<div>\n",
              "<style scoped>\n",
              "    .dataframe tbody tr th:only-of-type {\n",
              "        vertical-align: middle;\n",
              "    }\n",
              "\n",
              "    .dataframe tbody tr th {\n",
              "        vertical-align: top;\n",
              "    }\n",
              "\n",
              "    .dataframe thead th {\n",
              "        text-align: right;\n",
              "    }\n",
              "</style>\n",
              "<table border=\"1\" class=\"dataframe\">\n",
              "  <thead>\n",
              "    <tr style=\"text-align: right;\">\n",
              "      <th></th>\n",
              "      <th>欠損数</th>\n",
              "      <th>%</th>\n",
              "    </tr>\n",
              "  </thead>\n",
              "  <tbody>\n",
              "    <tr>\n",
              "      <th>PassengerId</th>\n",
              "      <td>0</td>\n",
              "      <td>0.000000</td>\n",
              "    </tr>\n",
              "    <tr>\n",
              "      <th>Survived</th>\n",
              "      <td>0</td>\n",
              "      <td>0.000000</td>\n",
              "    </tr>\n",
              "    <tr>\n",
              "      <th>Pclass</th>\n",
              "      <td>0</td>\n",
              "      <td>0.000000</td>\n",
              "    </tr>\n",
              "    <tr>\n",
              "      <th>Name</th>\n",
              "      <td>0</td>\n",
              "      <td>0.000000</td>\n",
              "    </tr>\n",
              "    <tr>\n",
              "      <th>Sex</th>\n",
              "      <td>0</td>\n",
              "      <td>0.000000</td>\n",
              "    </tr>\n",
              "    <tr>\n",
              "      <th>Age</th>\n",
              "      <td>177</td>\n",
              "      <td>19.865320</td>\n",
              "    </tr>\n",
              "    <tr>\n",
              "      <th>SibSp</th>\n",
              "      <td>0</td>\n",
              "      <td>0.000000</td>\n",
              "    </tr>\n",
              "    <tr>\n",
              "      <th>Parch</th>\n",
              "      <td>0</td>\n",
              "      <td>0.000000</td>\n",
              "    </tr>\n",
              "    <tr>\n",
              "      <th>Ticket</th>\n",
              "      <td>0</td>\n",
              "      <td>0.000000</td>\n",
              "    </tr>\n",
              "    <tr>\n",
              "      <th>Fare</th>\n",
              "      <td>0</td>\n",
              "      <td>0.000000</td>\n",
              "    </tr>\n",
              "    <tr>\n",
              "      <th>Cabin</th>\n",
              "      <td>687</td>\n",
              "      <td>77.104377</td>\n",
              "    </tr>\n",
              "    <tr>\n",
              "      <th>Embarked</th>\n",
              "      <td>2</td>\n",
              "      <td>0.224467</td>\n",
              "    </tr>\n",
              "  </tbody>\n",
              "</table>\n",
              "</div>"
            ],
            "text/plain": [
              "             欠損数          %\n",
              "PassengerId    0   0.000000\n",
              "Survived       0   0.000000\n",
              "Pclass         0   0.000000\n",
              "Name           0   0.000000\n",
              "Sex            0   0.000000\n",
              "Age          177  19.865320\n",
              "SibSp          0   0.000000\n",
              "Parch          0   0.000000\n",
              "Ticket         0   0.000000\n",
              "Fare           0   0.000000\n",
              "Cabin        687  77.104377\n",
              "Embarked       2   0.224467"
            ]
          },
          "metadata": {
            "tags": []
          },
          "execution_count": 13
        }
      ]
    },
    {
      "cell_type": "code",
      "metadata": {
        "id": "6mkHyLnpqzSI",
        "colab_type": "code",
        "outputId": "5ac1af92-9fe5-4b14-b65c-c4a2f5bf549e",
        "colab": {
          "base_uri": "https://localhost:8080/",
          "height": 390
        }
      },
      "source": [
        "#欠損値の確認（test）\n",
        "\n",
        "def kesson_table(df): \n",
        "        null_val = df.isnull().sum()\n",
        "        percent = 100 * df.isnull().sum()/len(df)\n",
        "        kesson_table = pd.concat([null_val, percent], axis=1)\n",
        "        kesson_table_ren_columns = kesson_table.rename(\n",
        "        columns = {0 : '欠損数', 1 : '%'})\n",
        "        return kesson_table_ren_columns\n",
        " \n",
        "kesson_table(test)"
      ],
      "execution_count": 0,
      "outputs": [
        {
          "output_type": "execute_result",
          "data": {
            "text/html": [
              "<div>\n",
              "<style scoped>\n",
              "    .dataframe tbody tr th:only-of-type {\n",
              "        vertical-align: middle;\n",
              "    }\n",
              "\n",
              "    .dataframe tbody tr th {\n",
              "        vertical-align: top;\n",
              "    }\n",
              "\n",
              "    .dataframe thead th {\n",
              "        text-align: right;\n",
              "    }\n",
              "</style>\n",
              "<table border=\"1\" class=\"dataframe\">\n",
              "  <thead>\n",
              "    <tr style=\"text-align: right;\">\n",
              "      <th></th>\n",
              "      <th>欠損数</th>\n",
              "      <th>%</th>\n",
              "    </tr>\n",
              "  </thead>\n",
              "  <tbody>\n",
              "    <tr>\n",
              "      <th>PassengerId</th>\n",
              "      <td>0</td>\n",
              "      <td>0.000000</td>\n",
              "    </tr>\n",
              "    <tr>\n",
              "      <th>Pclass</th>\n",
              "      <td>0</td>\n",
              "      <td>0.000000</td>\n",
              "    </tr>\n",
              "    <tr>\n",
              "      <th>Name</th>\n",
              "      <td>0</td>\n",
              "      <td>0.000000</td>\n",
              "    </tr>\n",
              "    <tr>\n",
              "      <th>Sex</th>\n",
              "      <td>0</td>\n",
              "      <td>0.000000</td>\n",
              "    </tr>\n",
              "    <tr>\n",
              "      <th>Age</th>\n",
              "      <td>86</td>\n",
              "      <td>20.574163</td>\n",
              "    </tr>\n",
              "    <tr>\n",
              "      <th>SibSp</th>\n",
              "      <td>0</td>\n",
              "      <td>0.000000</td>\n",
              "    </tr>\n",
              "    <tr>\n",
              "      <th>Parch</th>\n",
              "      <td>0</td>\n",
              "      <td>0.000000</td>\n",
              "    </tr>\n",
              "    <tr>\n",
              "      <th>Ticket</th>\n",
              "      <td>0</td>\n",
              "      <td>0.000000</td>\n",
              "    </tr>\n",
              "    <tr>\n",
              "      <th>Fare</th>\n",
              "      <td>1</td>\n",
              "      <td>0.239234</td>\n",
              "    </tr>\n",
              "    <tr>\n",
              "      <th>Cabin</th>\n",
              "      <td>327</td>\n",
              "      <td>78.229665</td>\n",
              "    </tr>\n",
              "    <tr>\n",
              "      <th>Embarked</th>\n",
              "      <td>0</td>\n",
              "      <td>0.000000</td>\n",
              "    </tr>\n",
              "  </tbody>\n",
              "</table>\n",
              "</div>"
            ],
            "text/plain": [
              "             欠損数          %\n",
              "PassengerId    0   0.000000\n",
              "Pclass         0   0.000000\n",
              "Name           0   0.000000\n",
              "Sex            0   0.000000\n",
              "Age           86  20.574163\n",
              "SibSp          0   0.000000\n",
              "Parch          0   0.000000\n",
              "Ticket         0   0.000000\n",
              "Fare           1   0.239234\n",
              "Cabin        327  78.229665\n",
              "Embarked       0   0.000000"
            ]
          },
          "metadata": {
            "tags": []
          },
          "execution_count": 14
        }
      ]
    },
    {
      "cell_type": "markdown",
      "metadata": {
        "id": "Qfrq7ZJBvzE8",
        "colab_type": "text"
      },
      "source": [
        "**＜欠損値の補完 train＞**\n",
        "\n",
        "欠損値に対して、適切な値を補完する。\n",
        "今回は[Age] [Embarked]のみ対象とし、[Cabin]については取り上げない。\n",
        "\n",
        "※欠損値が77％もあるため後ほど除外する。"
      ]
    },
    {
      "cell_type": "markdown",
      "metadata": {
        "id": "cAXbCW_Pc9we",
        "colab_type": "text"
      },
      "source": [
        "### **Ageの対応**\n",
        "データを可視化して対応策を検討する。"
      ]
    },
    {
      "cell_type": "code",
      "metadata": {
        "id": "PXQ1KOGdc7eo",
        "colab_type": "code",
        "outputId": "e84913d6-16b0-46dc-d2cc-5085ee99bc84",
        "colab": {
          "base_uri": "https://localhost:8080/",
          "height": 283
        }
      },
      "source": [
        "ax = train[\"Age\"].hist(bins=15, color='teal', alpha=0.7)\n",
        "ax.set(xlabel='Age', ylabel='Count')\n",
        "plt.show()"
      ],
      "execution_count": 0,
      "outputs": [
        {
          "output_type": "display_data",
          "data": {
            "image/png": "[encoded data removed]",
            "text/plain": [
              "<Figure size 432x288 with 1 Axes>"
            ]
          },
          "metadata": {
            "tags": []
          }
        }
      ]
    },
    {
      "cell_type": "code",
      "metadata": {
        "id": "W2qVEWb8kBIS",
        "colab_type": "code",
        "colab": {}
      },
      "source": [
        "#欠損値へ適切な値を代入(train)\n",
        "\n",
        "# Age median = 中央値を代入する\n",
        "train['Age'].fillna(train['Age'].median(), inplace=True)"
      ],
      "execution_count": 0,
      "outputs": []
    },
    {
      "cell_type": "code",
      "metadata": {
        "id": "AsDVQoOUs3EH",
        "colab_type": "code",
        "outputId": "9372e27e-2730-43ff-9deb-8f7e9d5b18f5",
        "colab": {
          "base_uri": "https://localhost:8080/",
          "height": 122
        }
      },
      "source": [
        "#[Embarked] 最も数の多い出港地を代表値とする。 \n",
        " \n",
        "#各項目数の確認\n",
        "print((train == 'S').sum().sum())\n",
        "print((train == 'C').sum().sum())\n",
        "print((train == 'Q').sum().sum())"
      ],
      "execution_count": 0,
      "outputs": [
        {
          "output_type": "stream",
          "text": [
            "644\n",
            "168\n",
            "77\n"
          ],
          "name": "stdout"
        },
        {
          "output_type": "stream",
          "text": [
            "/usr/local/lib/python3.6/dist-packages/pandas/core/ops.py:1649: FutureWarning: elementwise comparison failed; returning scalar instead, but in the future will perform elementwise comparison\n",
            "  result = method(y)\n"
          ],
          "name": "stderr"
        }
      ]
    },
    {
      "cell_type": "code",
      "metadata": {
        "id": "dmB1UH-ofESM",
        "colab_type": "code",
        "outputId": "ff9eff88-271a-44fc-d741-59627eeee7c0",
        "colab": {
          "base_uri": "https://localhost:8080/",
          "height": 283
        }
      },
      "source": [
        "sns.countplot(x='Embarked',data=train,palette='Set2')\n",
        "plt.show()"
      ],
      "execution_count": 0,
      "outputs": [
        {
          "output_type": "display_data",
          "data": {
            "image/png": "[encoded data removed]",
            "text/plain": [
              "<Figure size 432x288 with 1 Axes>"
            ]
          },
          "metadata": {
            "tags": []
          }
        }
      ]
    },
    {
      "cell_type": "code",
      "metadata": {
        "id": "3Sy9p0xDu09Y",
        "colab_type": "code",
        "colab": {}
      },
      "source": [
        "#上記から、Sを代入する\n",
        "train['Embarked'].fillna('S', inplace=True)"
      ],
      "execution_count": 0,
      "outputs": []
    },
    {
      "cell_type": "code",
      "metadata": {
        "id": "iKr_ofUEwgP4",
        "colab_type": "code",
        "outputId": "26abf14b-9db4-410f-ae4b-2d83cc05e1b5",
        "colab": {
          "base_uri": "https://localhost:8080/",
          "height": 421
        }
      },
      "source": [
        "# 欠損値補完の確認\n",
        "kesson_table(train)"
      ],
      "execution_count": 0,
      "outputs": [
        {
          "output_type": "execute_result",
          "data": {
            "text/html": [
              "<div>\n",
              "<style scoped>\n",
              "    .dataframe tbody tr th:only-of-type {\n",
              "        vertical-align: middle;\n",
              "    }\n",
              "\n",
              "    .dataframe tbody tr th {\n",
              "        vertical-align: top;\n",
              "    }\n",
              "\n",
              "    .dataframe thead th {\n",
              "        text-align: right;\n",
              "    }\n",
              "</style>\n",
              "<table border=\"1\" class=\"dataframe\">\n",
              "  <thead>\n",
              "    <tr style=\"text-align: right;\">\n",
              "      <th></th>\n",
              "      <th>欠損数</th>\n",
              "      <th>%</th>\n",
              "    </tr>\n",
              "  </thead>\n",
              "  <tbody>\n",
              "    <tr>\n",
              "      <th>PassengerId</th>\n",
              "      <td>0</td>\n",
              "      <td>0.000000</td>\n",
              "    </tr>\n",
              "    <tr>\n",
              "      <th>Survived</th>\n",
              "      <td>0</td>\n",
              "      <td>0.000000</td>\n",
              "    </tr>\n",
              "    <tr>\n",
              "      <th>Pclass</th>\n",
              "      <td>0</td>\n",
              "      <td>0.000000</td>\n",
              "    </tr>\n",
              "    <tr>\n",
              "      <th>Name</th>\n",
              "      <td>0</td>\n",
              "      <td>0.000000</td>\n",
              "    </tr>\n",
              "    <tr>\n",
              "      <th>Sex</th>\n",
              "      <td>0</td>\n",
              "      <td>0.000000</td>\n",
              "    </tr>\n",
              "    <tr>\n",
              "      <th>Age</th>\n",
              "      <td>0</td>\n",
              "      <td>0.000000</td>\n",
              "    </tr>\n",
              "    <tr>\n",
              "      <th>SibSp</th>\n",
              "      <td>0</td>\n",
              "      <td>0.000000</td>\n",
              "    </tr>\n",
              "    <tr>\n",
              "      <th>Parch</th>\n",
              "      <td>0</td>\n",
              "      <td>0.000000</td>\n",
              "    </tr>\n",
              "    <tr>\n",
              "      <th>Ticket</th>\n",
              "      <td>0</td>\n",
              "      <td>0.000000</td>\n",
              "    </tr>\n",
              "    <tr>\n",
              "      <th>Fare</th>\n",
              "      <td>0</td>\n",
              "      <td>0.000000</td>\n",
              "    </tr>\n",
              "    <tr>\n",
              "      <th>Cabin</th>\n",
              "      <td>687</td>\n",
              "      <td>77.104377</td>\n",
              "    </tr>\n",
              "    <tr>\n",
              "      <th>Embarked</th>\n",
              "      <td>0</td>\n",
              "      <td>0.000000</td>\n",
              "    </tr>\n",
              "  </tbody>\n",
              "</table>\n",
              "</div>"
            ],
            "text/plain": [
              "             欠損数          %\n",
              "PassengerId    0   0.000000\n",
              "Survived       0   0.000000\n",
              "Pclass         0   0.000000\n",
              "Name           0   0.000000\n",
              "Sex            0   0.000000\n",
              "Age            0   0.000000\n",
              "SibSp          0   0.000000\n",
              "Parch          0   0.000000\n",
              "Ticket         0   0.000000\n",
              "Fare           0   0.000000\n",
              "Cabin        687  77.104377\n",
              "Embarked       0   0.000000"
            ]
          },
          "metadata": {
            "tags": []
          },
          "execution_count": 18
        }
      ]
    },
    {
      "cell_type": "markdown",
      "metadata": {
        "id": "C29kwbBtymHT",
        "colab_type": "text"
      },
      "source": [
        "**＜欠損値の補完 test＞**\n",
        "\n",
        "欠損値に対して、適切な値を補完する。\n",
        "今回は[Age] [Fare]のみ対象とし、[Cabin]については取り上げない。"
      ]
    },
    {
      "cell_type": "code",
      "metadata": {
        "id": "_bwQ1HUvzLmQ",
        "colab_type": "code",
        "outputId": "eb06f32f-29d7-43f3-b3fb-6146c3bf6b3d",
        "colab": {
          "base_uri": "https://localhost:8080/",
          "height": 122
        }
      },
      "source": [
        "#欠損値へ適切な値を代入(train)\n",
        "\n",
        "# Age median = 中央値を代入する\n",
        "test[\"Age\"] = test[\"Age\"].fillna(test[\"Age\"].median())\n",
        "\n",
        "# Fare nullセルに、中央値を代入する。　※どうやってこの「１５２」を見つけたのか疑問\n",
        "test.Fare[152] = test.Fare.median()\n"
      ],
      "execution_count": 0,
      "outputs": [
        {
          "output_type": "stream",
          "text": [
            "/usr/local/lib/python3.6/dist-packages/ipykernel_launcher.py:4: SettingWithCopyWarning: \n",
            "A value is trying to be set on a copy of a slice from a DataFrame\n",
            "\n",
            "See the caveats in the documentation: http://pandas.pydata.org/pandas-docs/stable/indexing.html#indexing-view-versus-copy\n",
            "  after removing the cwd from sys.path.\n"
          ],
          "name": "stderr"
        }
      ]
    },
    {
      "cell_type": "code",
      "metadata": {
        "id": "jrUuaSwfzS19",
        "colab_type": "code",
        "outputId": "64476a95-4614-4a8f-ed98-0df2f3f9bec8",
        "colab": {
          "base_uri": "https://localhost:8080/",
          "height": 390
        }
      },
      "source": [
        "# 欠損値補完の確認\n",
        "kesson_table(test)"
      ],
      "execution_count": 0,
      "outputs": [
        {
          "output_type": "execute_result",
          "data": {
            "text/html": [
              "<div>\n",
              "<style scoped>\n",
              "    .dataframe tbody tr th:only-of-type {\n",
              "        vertical-align: middle;\n",
              "    }\n",
              "\n",
              "    .dataframe tbody tr th {\n",
              "        vertical-align: top;\n",
              "    }\n",
              "\n",
              "    .dataframe thead th {\n",
              "        text-align: right;\n",
              "    }\n",
              "</style>\n",
              "<table border=\"1\" class=\"dataframe\">\n",
              "  <thead>\n",
              "    <tr style=\"text-align: right;\">\n",
              "      <th></th>\n",
              "      <th>欠損数</th>\n",
              "      <th>%</th>\n",
              "    </tr>\n",
              "  </thead>\n",
              "  <tbody>\n",
              "    <tr>\n",
              "      <th>PassengerId</th>\n",
              "      <td>0</td>\n",
              "      <td>0.000000</td>\n",
              "    </tr>\n",
              "    <tr>\n",
              "      <th>Pclass</th>\n",
              "      <td>0</td>\n",
              "      <td>0.000000</td>\n",
              "    </tr>\n",
              "    <tr>\n",
              "      <th>Name</th>\n",
              "      <td>0</td>\n",
              "      <td>0.000000</td>\n",
              "    </tr>\n",
              "    <tr>\n",
              "      <th>Sex</th>\n",
              "      <td>0</td>\n",
              "      <td>0.000000</td>\n",
              "    </tr>\n",
              "    <tr>\n",
              "      <th>Age</th>\n",
              "      <td>0</td>\n",
              "      <td>0.000000</td>\n",
              "    </tr>\n",
              "    <tr>\n",
              "      <th>SibSp</th>\n",
              "      <td>0</td>\n",
              "      <td>0.000000</td>\n",
              "    </tr>\n",
              "    <tr>\n",
              "      <th>Parch</th>\n",
              "      <td>0</td>\n",
              "      <td>0.000000</td>\n",
              "    </tr>\n",
              "    <tr>\n",
              "      <th>Ticket</th>\n",
              "      <td>0</td>\n",
              "      <td>0.000000</td>\n",
              "    </tr>\n",
              "    <tr>\n",
              "      <th>Fare</th>\n",
              "      <td>0</td>\n",
              "      <td>0.000000</td>\n",
              "    </tr>\n",
              "    <tr>\n",
              "      <th>Cabin</th>\n",
              "      <td>327</td>\n",
              "      <td>78.229665</td>\n",
              "    </tr>\n",
              "    <tr>\n",
              "      <th>Embarked</th>\n",
              "      <td>0</td>\n",
              "      <td>0.000000</td>\n",
              "    </tr>\n",
              "  </tbody>\n",
              "</table>\n",
              "</div>"
            ],
            "text/plain": [
              "             欠損数          %\n",
              "PassengerId    0   0.000000\n",
              "Pclass         0   0.000000\n",
              "Name           0   0.000000\n",
              "Sex            0   0.000000\n",
              "Age            0   0.000000\n",
              "SibSp          0   0.000000\n",
              "Parch          0   0.000000\n",
              "Ticket         0   0.000000\n",
              "Fare           0   0.000000\n",
              "Cabin        327  78.229665\n",
              "Embarked       0   0.000000"
            ]
          },
          "metadata": {
            "tags": []
          },
          "execution_count": 20
        }
      ]
    },
    {
      "cell_type": "markdown",
      "metadata": {
        "id": "XQT4gjDIWhjE",
        "colab_type": "text"
      },
      "source": [
        "# **ここまで（8.19）**"
      ]
    },
    {
      "cell_type": "markdown",
      "metadata": {
        "id": "z58nnwkGfvpE",
        "colab_type": "text"
      },
      "source": [
        "### **カテゴリ変数の数値化**"
      ]
    },
    {
      "cell_type": "markdown",
      "metadata": {
        "id": "OMV3t3uE1XEF",
        "colab_type": "text"
      },
      "source": [
        "## **データの可視化**\n",
        "\n"
      ]
    },
    {
      "cell_type": "code",
      "metadata": {
        "id": "m09NTjRposEJ",
        "colab_type": "code",
        "outputId": "42c20df8-bdf9-4974-d42a-14dc22f96193",
        "colab": {
          "base_uri": "https://localhost:8080/",
          "height": 1000
        }
      },
      "source": [
        "#データセットの各説明変数同士の相関を確認する\n",
        "\n",
        "sns.pairplot(train[[\"Survived\", \"Pclass\", \"SibSp\", \"Parch\", \"Age\", \"Fare\"]])\n",
        "plt.show()"
      ],
      "execution_count": 0,
      "outputs": [
        {
          "output_type": "display_data",
          "data": {
            "image/png": "[encoded data removed]",
            "text/plain": [
              "<Figure size 1080x1080 with 42 Axes>"
            ]
          },
          "metadata": {
            "tags": []
          }
        }
      ]
    },
    {
      "cell_type": "markdown",
      "metadata": {
        "id": "Fe8HxTYrvuCX",
        "colab_type": "text"
      },
      "source": [
        "＜カテゴリデータの処理＞\n",
        "\n",
        "文字列になっている値では、機械学習のアルゴリズムが適切な学習を行えない。\n",
        "\n",
        "⇨アルゴリズムが学習しやすい適切な形に処理する。"
      ]
    },
    {
      "cell_type": "markdown",
      "metadata": {
        "id": "hW0oZp4j1u0f",
        "colab_type": "text"
      },
      "source": [
        "PClass Sex を軸に、個々の乗客の生存率を可視化する"
      ]
    },
    {
      "cell_type": "code",
      "metadata": {
        "id": "jzQzDNhIzkoG",
        "colab_type": "code",
        "outputId": "8bc0e12c-aa81-432b-80b6-fc27a40469fa",
        "colab": {
          "base_uri": "https://localhost:8080/",
          "height": 508
        }
      },
      "source": [
        "fig = plt.figure(figsize=(12,4))\n",
        "ax1 = fig.add_subplot(121)\n",
        "ax2 = fig.add_subplot(122)\n",
        "\n",
        "# PClass\n",
        "PClassPlot = train_set['Survived'].groupby(train_set['Pclass']).mean()\n",
        "ax1.bar(x=PClassPlot.index, height=PClassPlot.values)\n",
        "ax1.set_ylabel('Survival Rate')\n",
        "ax1.set_xlabel('PClass')\n",
        "ax1.set_xticks(PClassPlot.index)\n",
        "ax1.set_yticks(np.arange(0, 1.1, .1))\n",
        "ax1.set_title(\"Class and Survival Rate\")\n",
        "\n",
        "# Sex \n",
        "GenderPlot = train_set['Survived'].groupby(train_set['Sex']).mean()\n",
        "ax2.bar(x=GenderPlot.index, height=GenderPlot.values)\n",
        "ax2.set_ylabel('Survival Rate')\n",
        "ax2.set_xlabel('Gender')\n",
        "ax2.set_xticks(GenderPlot.index)\n",
        "ax2.set_yticks(np.arange(0, 1.1, .1))\n",
        "ax2.set_title(\"Class and Survival Rate\")"
      ],
      "execution_count": 0,
      "outputs": [
        {
          "output_type": "error",
          "ename": "NameError",
          "evalue": "ignored",
          "traceback": [
            "\u001b[0;31m---------------------------------------------------------------------------\u001b[0m",
            "\u001b[0;31mNameError\u001b[0m                                 Traceback (most recent call last)",
            "\u001b[0;32m<ipython-input-22-782d1cad0797>\u001b[0m in \u001b[0;36m<module>\u001b[0;34m()\u001b[0m\n\u001b[1;32m      4\u001b[0m \u001b[0;34m\u001b[0m\u001b[0m\n\u001b[1;32m      5\u001b[0m \u001b[0;31m# PClass\u001b[0m\u001b[0;34m\u001b[0m\u001b[0;34m\u001b[0m\u001b[0;34m\u001b[0m\u001b[0m\n\u001b[0;32m----> 6\u001b[0;31m \u001b[0mPClassPlot\u001b[0m \u001b[0;34m=\u001b[0m \u001b[0mtrain_set\u001b[0m\u001b[0;34m[\u001b[0m\u001b[0;34m'Survived'\u001b[0m\u001b[0;34m]\u001b[0m\u001b[0;34m.\u001b[0m\u001b[0mgroupby\u001b[0m\u001b[0;34m(\u001b[0m\u001b[0mtrain_set\u001b[0m\u001b[0;34m[\u001b[0m\u001b[0;34m'Pclass'\u001b[0m\u001b[0;34m]\u001b[0m\u001b[0;34m)\u001b[0m\u001b[0;34m.\u001b[0m\u001b[0mmean\u001b[0m\u001b[0;34m(\u001b[0m\u001b[0;34m)\u001b[0m\u001b[0;34m\u001b[0m\u001b[0;34m\u001b[0m\u001b[0m\n\u001b[0m\u001b[1;32m      7\u001b[0m \u001b[0max1\u001b[0m\u001b[0;34m.\u001b[0m\u001b[0mbar\u001b[0m\u001b[0;34m(\u001b[0m\u001b[0mx\u001b[0m\u001b[0;34m=\u001b[0m\u001b[0mPClassPlot\u001b[0m\u001b[0;34m.\u001b[0m\u001b[0mindex\u001b[0m\u001b[0;34m,\u001b[0m \u001b[0mheight\u001b[0m\u001b[0;34m=\u001b[0m\u001b[0mPClassPlot\u001b[0m\u001b[0;34m.\u001b[0m\u001b[0mvalues\u001b[0m\u001b[0;34m)\u001b[0m\u001b[0;34m\u001b[0m\u001b[0;34m\u001b[0m\u001b[0m\n\u001b[1;32m      8\u001b[0m \u001b[0max1\u001b[0m\u001b[0;34m.\u001b[0m\u001b[0mset_ylabel\u001b[0m\u001b[0;34m(\u001b[0m\u001b[0;34m'Survival Rate'\u001b[0m\u001b[0;34m)\u001b[0m\u001b[0;34m\u001b[0m\u001b[0;34m\u001b[0m\u001b[0m\n",
            "\u001b[0;31mNameError\u001b[0m: name 'train_set' is not defined"
          ]
        },
        {
          "output_type": "display_data",
          "data": {
            "image/png": "[encoded data removed]",
            "text/plain": [
              "<Figure size 864x288 with 2 Axes>"
            ]
          },
          "metadata": {
            "tags": []
          }
        }
      ]
    },
    {
      "cell_type": "code",
      "metadata": {
        "id": "NA30I3uOzkqo",
        "colab_type": "code",
        "colab": {}
      },
      "source": [
        "'''\n",
        "sibsp（同乗中の兄弟/配偶者の数）とparch（同乗中の親/子供の数）を軸に、個々の乗客乗員の生存率を出力するコード\n",
        "'''\n",
        "\n",
        "fig = plt.figure(figsize=(12, 4))\n",
        "ax1 = fig.add_subplot(121)\n",
        "ax2 = fig.add_subplot(122)\n",
        "\n",
        "# Sibsp\n",
        "SiblingPlot = train_set['Survived'].groupby(train_set['SibSp']).mean()\n",
        "ax1.bar(x=SiblingPlot.index, height=SiblingPlot.values)\n",
        "ax1.set_ylabel('Survival Rate')\n",
        "ax1.set_xlabel('Total Siblings')\n",
        "ax1.set_xticks(SiblingPlot.index)\n",
        "ax1.set_yticks(np.arange(0, 1.1, .1))\n",
        "ax1.set_title(\"Total Siblings and Survival Rate\")\n",
        "\n",
        "# Parch\n",
        "ParchPlot = train_set['Survived'].groupby(train_set['Parch']).mean()\n",
        "ax2.bar(x=ParchPlot.index, height=ParchPlot.values, width = .8, color = 'Teal')\n",
        "ax2.set_ylabel('Survival Rate')\n",
        "ax2.set_xlabel('Number of Parents and Childern abroad')\n",
        "ax2.set_xticks(ParchPlot.index)\n",
        "ax2.set_yticks(np.arange(0, 1.1, .1))\n",
        "ax2.set_title(\"Number of Parents and Childern abroad and Survival Rate\")\n"
      ],
      "execution_count": 0,
      "outputs": []
    },
    {
      "cell_type": "code",
      "metadata": {
        "id": "9voYw2aEnMSN",
        "colab_type": "code",
        "colab": {}
      },
      "source": [
        "train_set['Sex'].head()"
      ],
      "execution_count": 0,
      "outputs": []
    },
    {
      "cell_type": "code",
      "metadata": {
        "id": "oVHgGHICnbII",
        "colab_type": "code",
        "colab": {}
      },
      "source": [
        "# Sex(性別)のカテゴリデータの処理　scikit-learn の labelencoder()を利用\n",
        "labelencoder=LabelEncoder()\n",
        "train_set['Sex'] = labelencoder.fit_transform(train_set['Sex'])\n",
        "\n",
        "train_set['Sex'].head()"
      ],
      "execution_count": 0,
      "outputs": []
    },
    {
      "cell_type": "markdown",
      "metadata": {
        "id": "iEVd4T6gpJRQ",
        "colab_type": "text"
      },
      "source": [
        "**EmbarkedとPclassをダミー変数へ変換するコード**\n",
        "\n",
        "カテゴリをひとつ減らして処理しやすくする"
      ]
    },
    {
      "cell_type": "code",
      "metadata": {
        "id": "WhnVRC6yo0Bm",
        "colab_type": "code",
        "colab": {}
      },
      "source": [
        "# drop_first=True で、最初のカテゴリデータの値を意図的に落とす。\n",
        "# Embarked （出発港）をダミー変数へ変換\n",
        "Embarked = pd.get_dummies(train_set['Embarked'], drop_first=True)\n",
        "Embarked.columns = ['Embarked-Q','Embarked-S']\n",
        "Embarked.head()"
      ],
      "execution_count": 0,
      "outputs": []
    },
    {
      "cell_type": "code",
      "metadata": {
        "id": "CT8YhiKYuk_e",
        "colab_type": "code",
        "colab": {}
      },
      "source": [
        "# Pclass \n",
        "# Pclass （旅客等級）をダミー変数へ変換\n",
        "Pclass = pd.get_dummies(train_set['Pclass'], drop_first=True)\n",
        "Pclass.columns = ['PClass2','PClass3']\n",
        "Pclass.head()"
      ],
      "execution_count": 0,
      "outputs": []
    },
    {
      "cell_type": "markdown",
      "metadata": {
        "id": "PRmz7a4YwUiy",
        "colab_type": "text"
      },
      "source": [
        "**特徴量エンジニアリング**\n",
        "\n",
        "機械学習の予測精度向上のために、データに含まれている特徴量をもとに、新しい特徴量を追加する手法を指す。\n",
        "\n",
        "タイタニック号データには、「性別」「旅客等級」など11個の特徴量が含まれている。これらをもとに特徴量を追加する。"
      ]
    },
    {
      "cell_type": "markdown",
      "metadata": {
        "id": "1cufJXD3w8Fi",
        "colab_type": "text"
      },
      "source": [
        "**アイデア1:年齢の階級**\n",
        "[Age]に入っている年齢を、4つに分類してみる。\n",
        "\n",
        "4つに分けた年齢の階級ごとに、生存率が異なるかどうかを確認する。\n",
        "\n",
        "⇨四分位数で分類。データを小さい順に並び替えた時に、データを4等分に区切った時の値を指す。"
      ]
    },
    {
      "cell_type": "code",
      "metadata": {
        "id": "l1j23vpnwS0u",
        "colab_type": "code",
        "colab": {}
      },
      "source": [
        "# Ageを４階級に区分\n",
        "train_set['Age_Cat'] = pd.qcut(train_set['Age'],4)\n",
        "AgePlot = train_set['Survived'].groupby(train_set['Age_Cat']).mean()\n",
        "AgePlot\n"
      ],
      "execution_count": 0,
      "outputs": []
    },
    {
      "cell_type": "markdown",
      "metadata": {
        "id": "NL86iBo0EWdu",
        "colab_type": "text"
      },
      "source": [
        "# 実行結果考察\n",
        "'''\n",
        "ラベルごとのターゲットの平均をmean()を使って算出した\n",
        "28~35歳が、生存率が最も高い。\n",
        "'''"
      ]
    },
    {
      "cell_type": "markdown",
      "metadata": {
        "id": "QxJm8_u69lqK",
        "colab_type": "text"
      },
      "source": [
        "**アイデア2:料金の階級**"
      ]
    },
    {
      "cell_type": "code",
      "metadata": {
        "id": "Q3AORQN4w6GK",
        "colab_type": "code",
        "colab": {}
      },
      "source": [
        "# Fare を６階級に区分\n",
        "train_set['Fare_Cat'] = pd.qcut(train_set['Fare'],6)\n",
        "FarePlot = train_set['Survived'].groupby(train_set['Fare_Cat']).mean()\n",
        "FarePlot"
      ],
      "execution_count": 0,
      "outputs": []
    },
    {
      "cell_type": "markdown",
      "metadata": {
        "id": "los71RVmEh-Q",
        "colab_type": "text"
      },
      "source": [
        "# 実行結果考察\n",
        "'''\n",
        "非常に顕著な傾向あり。\n",
        "乗船料金が高ければ高いほど、生存確率が大幅に高まっていることがわかる。\n",
        "'''"
      ]
    },
    {
      "cell_type": "markdown",
      "metadata": {
        "id": "Oj5rj7R2-xLP",
        "colab_type": "text"
      },
      "source": [
        "**アイデア3:同乗している家族の人数**"
      ]
    },
    {
      "cell_type": "code",
      "metadata": {
        "id": "drYNHwBF-6d1",
        "colab_type": "code",
        "colab": {}
      },
      "source": [
        "'''\n",
        "sibspとparchの合計（乗員中の家族人数）\n",
        "SibSp = 同乗中の兄弟/配偶者の数\n",
        "Parch = 同乗中の親/子供の数\n",
        "'''\n",
        "train_set['Total Family'] = train_set['SibSp'] + train_set['Parch']\n",
        "FamiliyPlot = train_set['Survived'].groupby(train_set['Total Family']).mean()\n",
        "FamiliyPlot"
      ],
      "execution_count": 0,
      "outputs": []
    },
    {
      "cell_type": "markdown",
      "metadata": {
        "id": "vCP3hwpnEo7_",
        "colab_type": "text"
      },
      "source": [
        "# 実行結果考察\n",
        "'''\n",
        "同乗中の家族の人数も生存確率に影響していることがわかる。\n",
        "最も生存確率の高い項目が[3名]であり、前後のデータの生存確率は大幅に下がっている。\n",
        "'''"
      ]
    },
    {
      "cell_type": "markdown",
      "metadata": {
        "id": "XEG17zeYAmZ6",
        "colab_type": "text"
      },
      "source": [
        "**アイデア4:単独乗船**\n",
        "\n",
        "アイデア３の結果を受けてみて、乗船が単独のものであるかどうかも影響があるように思えることから検証実施。\n",
        "\n",
        "「単独」と、「家族などと複数名で乗船」とを区別するクラスを特徴量として追加する。\n",
        "\n",
        "単独:1\n",
        "\n",
        "複数:0"
      ]
    },
    {
      "cell_type": "code",
      "metadata": {
        "id": "P2elx2S4HGL8",
        "colab_type": "code",
        "colab": {}
      },
      "source": [
        "# 単独乗船を定義\n",
        "'''\n",
        "乗船している家族の数が０＝単独乗船という条件　\n",
        "この条件を満たせば1、満たさない場合は0がtrain_set['Alone]のカラムへ書き込まれる。\n",
        "'''\n",
        "train_set['Alone'] = np.where(train_set['Total Family']==0, 1, 0)\n",
        "AlonePlot = train_set['Survived'].groupby(train_set['Alone']).mean()\n",
        "AlonePlot\n",
        "\n",
        "# 生存率＝単独での乗船<複数名"
      ],
      "execution_count": 0,
      "outputs": []
    },
    {
      "cell_type": "markdown",
      "metadata": {
        "id": "CfS4dyYrTVwo",
        "colab_type": "text"
      },
      "source": [
        "**アイデア5:名前の継承**\n",
        "\n",
        "Nameには乗客乗員の文字列データが格納されており、名前に付随して「敬称」もデータとして入っている。\n",
        "\n",
        "これらのデータから何か特徴が見えないか検証する。"
      ]
    },
    {
      "cell_type": "code",
      "metadata": {
        "id": "kaUvOc6nTvNi",
        "colab_type": "code",
        "colab": {}
      },
      "source": [
        "# Name(名前)から敬称（title）を摘出\n",
        "train_set['Title'] = train_set.Name.str.extract(r',\\s*([^\\.]*)\\s*\\.', expand=False)"
      ],
      "execution_count": 0,
      "outputs": []
    },
    {
      "cell_type": "code",
      "metadata": {
        "id": "diNZWjo7Ur2j",
        "colab_type": "code",
        "colab": {}
      },
      "source": [
        "# 上記、摘出したものをTitleとしてデータフレームに格納する。\n",
        "train_set['Title'].unique()\n",
        "# Pandasの"
      ],
      "execution_count": 0,
      "outputs": []
    },
    {
      "cell_type": "code",
      "metadata": {
        "id": "RkZc4L7MAZl2",
        "colab_type": "code",
        "colab": {}
      },
      "source": [
        "#これらの敬称の特色を考慮し、5つのグループに分類する。\n",
        "#まずはリストでまとめる\n",
        "Mr = ['Mr']\n",
        "Crew1 = ['Don', 'Rev', 'Capt']\n",
        "Crew2 = ['Major', 'Col', 'Dr']\n",
        "Women_Masters = ['Mrs', 'Miss', 'Master']\n",
        "Affluence = ['Mme', 'Ms', 'Lady', 'Sir', 'Mile', 'the Countess', 'Jonkheer']"
      ],
      "execution_count": 0,
      "outputs": []
    },
    {
      "cell_type": "code",
      "metadata": {
        "id": "wctYdmbQBadY",
        "colab_type": "code",
        "colab": {}
      },
      "source": [
        "'''\n",
        "リスト\n",
        "Name（名前）から摘出しTitle（敬称）をグループ分けして、Title_Groupとしてデータフレームへ追加する\n",
        "'''\n",
        "train_set['Title_Group'] = np.where(train_set['Title'] == Mr[0], 'Mr', 'Affluence')\n",
        "train_set['Title_Group'] = np.where(train_set['Title'].isin(Crew1), 'Crew1', train_set['Title_Group'])\n",
        "train_set['Title_Group'] = np.where(train_set['Title'].isin(Crew2), 'Crew2', train_set['Title_Group'])\n",
        "train_set['Title_Group'] = np.where(train_set['Title'].isin(Women_Masters), 'Women_Masters', train_set['Title_Group'])\n",
        "train_set['Title_Group'] = np.where(train_set['Title'].isin(Affluence), 'Affluence', train_set['Title_Group'])"
      ],
      "execution_count": 0,
      "outputs": []
    },
    {
      "cell_type": "code",
      "metadata": {
        "id": "pmTmx8TgDAJb",
        "colab_type": "code",
        "colab": {}
      },
      "source": [
        "#敬称の各グループのターゲットの平均値を表示\n",
        "TitlePlot = train_set['Survived'].groupby(train_set['Title_Group']).mean()\n",
        "TitlePlot\n",
        "\n"
      ],
      "execution_count": 0,
      "outputs": []
    },
    {
      "cell_type": "markdown",
      "metadata": {
        "id": "kHS2pNHyEzeM",
        "colab_type": "text"
      },
      "source": [
        "# 実行結果考察\n",
        "\"\"\"\n",
        "これまでのアイデアの中で、５の生存率が最も顕著に異なることがわかる。\n",
        "\"\"\""
      ]
    },
    {
      "cell_type": "markdown",
      "metadata": {
        "id": "rsDKN0dpFWEA",
        "colab_type": "text"
      },
      "source": [
        "**「年齢の階級」と「料金の階級」の2つの新しい特徴量を訓練データへ追加する**"
      ]
    },
    {
      "cell_type": "code",
      "metadata": {
        "id": "pi3VcQSiAZpA",
        "colab_type": "code",
        "colab": {}
      },
      "source": [
        "train_set['Age_Cat'] = pd.qcut(train_set['Age'],4,labels = ['Age Group1',\n",
        "                                                            'Age Group2',\n",
        "                                                            'Age Group3',\n",
        "                                                            'Age Group4'])\n",
        "train_set['Fare_Cat'] = pd.qcut(train_set['Fare'],6,labels = ['Fare Group1',\n",
        "                                                            'Fare Group2',\n",
        "                                                            'Fare Group3',\n",
        "                                                            'Fare Group4',\n",
        "                                                            'Fare Group5',\n",
        "                                                            'Fare Group6'])"
      ],
      "execution_count": 0,
      "outputs": []
    },
    {
      "cell_type": "markdown",
      "metadata": {
        "id": "1v-PLyZlGffK",
        "colab_type": "text"
      },
      "source": [
        "**train_set(訓練データ)に特徴量を追加する**"
      ]
    },
    {
      "cell_type": "code",
      "metadata": {
        "id": "EV8zBRwKAZsi",
        "colab_type": "code",
        "colab": {}
      },
      "source": [
        "# Age,Fare,Title_Groupsをダミー変数へ変換\n",
        "\n",
        "Age = pd.get_dummies(train_set['Age_Cat'], drop_first=True)\n",
        "Fare = pd.get_dummies(train_set['Fare_Cat'], drop_first=True)\n",
        "Title_Groups = pd.get_dummies(train_set['Title_Group'], drop_first=True)\n",
        "\n",
        "#train_set へ全てのダミー変数を連結\n",
        "train_set = pd.concat([train_set, Pclass, Embarked, Age, Fare, Title_Groups], axis=1)\n",
        "\n",
        "#不要なカラムを訓練データから削除\n",
        "train_set = train_set.drop(columns=['PassengerId', 'Pclass', 'Name', 'Fare', 'Embarked','Ticket', 'Cabin', 'Age', 'Age_Cat', 'Fare_Cat', 'Title', 'Title_Group','Crew1', 'Crew2', 'Mr', 'Women_Masters'])\n",
        "\n",
        "#訓練データの全てのカラム（列）を表示\n",
        "train_set.columns"
      ],
      "execution_count": 0,
      "outputs": []
    },
    {
      "cell_type": "markdown",
      "metadata": {
        "id": "Y4lZcou8IiKk",
        "colab_type": "text"
      },
      "source": [
        "**⬆️ここまでで、訓練データの前処理が全て完了**\n",
        "※1:PClass2,PClass3  Embarked-S,Embarked-Q のタイトルがちゃんと出ていない\n",
        "※2:2個ずつ出てる？"
      ]
    },
    {
      "cell_type": "markdown",
      "metadata": {
        "id": "tmvvskHQJaBJ",
        "colab_type": "text"
      },
      "source": [
        "**訓練データを、特徴量XとターゲットYに切り分ける**"
      ]
    },
    {
      "cell_type": "code",
      "metadata": {
        "id": "oN2f49h2JjKC",
        "colab_type": "code",
        "colab": {}
      },
      "source": [
        "X_train = train_set.drop(columns='Survived')\n",
        "y_train = train_set['Survived']"
      ],
      "execution_count": 0,
      "outputs": []
    },
    {
      "cell_type": "code",
      "metadata": {
        "id": "gu0uwZbEQPNc",
        "colab_type": "code",
        "colab": {}
      },
      "source": [
        "#テストデータ前処理のコード\n",
        "# 欠損値の処理\n",
        "test_set['Age'].fillna(test_set['Age'].median(), inplace=True)\n",
        "test_set['Fare'].fillna(test_set['Fare'].median(), inplace=True)\n",
        "\n",
        "# Sex(性別)の値を文字列から数値(0/1)へ変換\n",
        "test_set['Sex'] = labelencoder.fit_transform(test_set['Sex'])\n",
        "\n",
        "#PClass (旅客等級)とEmbarked (出発港)のダミー変数化\n",
        "test_Pclass = pd.get_dummies(test_set['Pclass'],drop_first=True)\n",
        "test_Pclass.columns =['PClass2','PClass3']\n",
        "test_Embarked = pd.get_dummies(test_set['Embarked'],drop_first=True)\n",
        "test_Embarked.columns = ['Embarked-Q','Embarked-S']\n",
        "\n",
        "# 特徴量エンジニアリング\n",
        "test_set['Age_Cat'] = pd.qcut(test_set['Age'],4)\n",
        "Age_cat = pd.get_dummies(test_set['Age_Cat'], drop_first=True)\n",
        "Age_cat.columns = ['Age Group 2','Age Group 3','Age Group 4']\n",
        "test_set['Fare_Cat'] = pd.qcut(test_set['Fare'],6)\n",
        "Fare_cat = pd.get_dummies(test_set['Fare_Cat'], drop_first=True)\n",
        "Fare_cat.columns = ['Fare Group 2','Fare Group 3','Fare Group 4','Fare Group 5','Fare Group 6']\n",
        "test_set['Total Family'] = test_set['SibSp'] + test_set['Parch']\n",
        "test_set['Alone'] = np.where(test_set['Total Family']==0, 1, 0)\n",
        "test_set['Title'] = test_set.Name.str.extract(r',¥s*([^¥.]*)¥s*¥.', expand=False)\n",
        "test_set['Title_Group'] = np.where(test_set['Title'] == Mr[0], 'Mr','Affluence')\n",
        "test_set['Title_Group'] = np.where(test_set['Title'].isin(Crew1), 'Crew1', test_set['Title_Group'])\n",
        "test_set['Title_Group'] = np.where(test_set['Title'].isin(Crew2), 'Crew2', test_set['Title_Group'])\n",
        "test_set['Title_Group'] = np.where(test_set['Title'].isin(Women_Masters), 'Women_Masters', test_set['Title_Group'])\n",
        "test_set['Title_Group'] = np.where(test_set['Title'].isin(Affluence), 'Affluence', test_set['Title_Group'])\n",
        "Title_Groups_test = pd.get_dummies(test_set['Title_Group'], drop_first=True)\n",
        "test_set = pd.concat([test_set, test_Pclass,test_Embarked, Age_cat,Fare_cat, Title_Groups_test],axis=1)\n",
        "PassengerID = test_set['PassengerId']\n",
        "test_set = test_set.drop(columns=['Fare','Fare_Cat','Age_Cat','Age',\n",
        "                                  'Name','Pclass','Ticket','Cabin',\n",
        "                                  'PassengerId','Embarked','Title_Group','Title'])\n"
      ],
      "execution_count": 0,
      "outputs": []
    },
    {
      "cell_type": "code",
      "metadata": {
        "id": "4sxxNpzXs-1w",
        "colab_type": "code",
        "colab": {}
      },
      "source": [
        "test_set.columns"
      ],
      "execution_count": 0,
      "outputs": []
    },
    {
      "cell_type": "code",
      "metadata": {
        "id": "ZZY6U6ovtE8m",
        "colab_type": "code",
        "colab": {}
      },
      "source": [
        "train_set.columns"
      ],
      "execution_count": 0,
      "outputs": []
    },
    {
      "cell_type": "markdown",
      "metadata": {
        "id": "z9Z5CKLaZNmO",
        "colab_type": "text"
      },
      "source": [
        "# **機械学習モデルの交差検証**\n",
        "\n",
        "・ロジスティック回帰\n",
        "\n",
        "・サポートベクターマシン\n",
        "\n",
        "・ランダムフォレスト\n",
        "\n",
        "\n",
        "交差検証とは？\n",
        "\n",
        "標本データの一部を先に解析し、残る部分でその解析をテストし、解析が妥当なものかを検証すること。\n",
        "\n",
        "つまり、解析（シミュレーション）が本当に母集団に対処できるものなのかどうかを検証する手法のこと。\n"
      ]
    },
    {
      "cell_type": "code",
      "metadata": {
        "id": "nGM6ziTjZMJr",
        "colab_type": "code",
        "colab": {}
      },
      "source": [
        "LR = LogisticRegression()\n",
        "RF = RandomForestClassifier()\n",
        "SVM = SVC()"
      ],
      "execution_count": 0,
      "outputs": []
    },
    {
      "cell_type": "code",
      "metadata": {
        "id": "yvB1OZpWZtW7",
        "colab_type": "code",
        "colab": {}
      },
      "source": [
        "#3つの学習モデルを構築して正解率を比較するコード\n",
        "\n",
        "#交差検証のパラメータを設定\n",
        "scores = []\n",
        "modelnames = ['ロジスティック回帰', 'ランダムフォレスト', 'サポートベクターマシン']\n",
        "models = [LR, RF, SVM]\n",
        "\n",
        "#ループ処理で交差検証\n",
        "#coss_val_score()に検証したい機械学習モデル、訓練データ（特徴量とターゲット）、検証をしたいスコア（scoring）と\n",
        "#交差検証回数（cv）を渡す。今回は5回。その結果の平均をscoresのリストに追加する。\n",
        "\n",
        "for i in models:\n",
        "  score = cross_val_score(i, X_train, y_train, scoring = 'accuracy', cv = 5).mean()\n",
        "  scores.append(score)\n",
        "\n",
        "#結果を出力\n",
        "pd.DataFrame(scores, index=modelnames,\n",
        "             columns=['CV Scores']).sort_values(by = 'CV Scores', ascending=False)\n",
        "\n",
        "#機械学習のアルゴリズムは学習の過程で乱数を用いる。そのため、正解率は毎回多少異なるものとなる。"
      ],
      "execution_count": 0,
      "outputs": []
    },
    {
      "cell_type": "markdown",
      "metadata": {
        "id": "pi91_1cZdv3i",
        "colab_type": "text"
      },
      "source": [
        "今回は、svmが最も正解率の高い結果となった。\n",
        "\n",
        "しかし上記の交差検証は、最初の取り掛かりに過ぎないため、より正しい判断を行うには各学習モデルの深い検証が必要となる。"
      ]
    },
    {
      "cell_type": "markdown",
      "metadata": {
        "id": "8MZq_YRXeZ2S",
        "colab_type": "text"
      },
      "source": [
        "# **Tips:ロジスティック回帰とは？**\n",
        "\n",
        "教師あり学習の手法の1つで、最も初歩的なもの。\n",
        "\n",
        "強み：確率的なアプローチが可能である。\n",
        "\n",
        "生存率を「乗客Aは20%」「乗客Bは80%」といった値で返す。\n",
        "\n",
        "分類のクラスに応じて確率的なアプローチを行う。\n",
        "\n",
        "構造的にも非常にシンプルかつパワフルな手法である。\n"
      ]
    },
    {
      "cell_type": "markdown",
      "metadata": {
        "id": "faustAK0fI7M",
        "colab_type": "text"
      },
      "source": [
        "# **Tips:SVMとは？**\n",
        "\n",
        "分類、回帰どちらでも利用可能であるが、一般的には分類で用いられることが多い。\n",
        "\n",
        "境界線に近いデータを、「サポートベクター」と呼ぶ。"
      ]
    },
    {
      "cell_type": "markdown",
      "metadata": {
        "id": "ZzohmZXCn9Tc",
        "colab_type": "text"
      },
      "source": [
        "# **Tips:決定木とは？**\n",
        "\n",
        "強み：構造がシンプルで、かつ推測結果を説明しやすい。頻繁に使われる。\n"
      ]
    },
    {
      "cell_type": "code",
      "metadata": {
        "id": "vE_9V7aDZMM1",
        "colab_type": "code",
        "colab": {}
      },
      "source": [
        "#ランダムフォレストのモデル訓練\n",
        "#訓練を行うメソッド「fit」へ、訓練データの特徴量を渡す。\n",
        "#ランダムフォレストのハイパーパラメータが出力される。\n",
        "RF.fit(X_train, y_train)"
      ],
      "execution_count": 0,
      "outputs": []
    },
    {
      "cell_type": "code",
      "metadata": {
        "id": "bo3DghQ5ZMP8",
        "colab_type": "code",
        "colab": {}
      },
      "source": [
        "y_pred = RF.predict(test_set)"
      ],
      "execution_count": 0,
      "outputs": []
    },
    {
      "cell_type": "code",
      "metadata": {
        "id": "qkdtEtDXZMl7",
        "colab_type": "code",
        "colab": {}
      },
      "source": [
        "X_train.describe() \n",
        "\"\"\"\n",
        "[X_train]と[test_set]で、特徴量の数が合わなかったためエラーが発生。\n",
        "処置として、'Crew1', 'Crew2', 'Mr', 'Women_Masters'をX_trainから削除した。\n",
        "\"\"\""
      ],
      "execution_count": 0,
      "outputs": []
    },
    {
      "cell_type": "code",
      "metadata": {
        "id": "-ZIml_vkZMsX",
        "colab_type": "code",
        "colab": {}
      },
      "source": [
        "test_set.describe() "
      ],
      "execution_count": 0,
      "outputs": []
    },
    {
      "cell_type": "code",
      "metadata": {
        "id": "miiK4DIsu0FP",
        "colab_type": "code",
        "colab": {}
      },
      "source": [
        "my_solution = pd.DataFrame({'PassengerId' :PassengerID, 'Survived' :y_pred})\n",
        "my_solution = my_solution.set_index('PassengerId')\n",
        "my_solution.to_csv('submittitanic.csv')"
      ],
      "execution_count": 0,
      "outputs": []
    },
    {
      "cell_type": "code",
      "metadata": {
        "id": "QsZVqg5AwFy2",
        "colab_type": "code",
        "colab": {}
      },
      "source": [
        "from google.colab import files\n",
        "  \n",
        "files.download('submittitanic.csv')  "
      ],
      "execution_count": 0,
      "outputs": []
    },
    {
      "cell_type": "markdown",
      "metadata": {
        "id": "qhUete-ywwKP",
        "colab_type": "text"
      },
      "source": [
        "上記ファイルをkaggleに提出すると、正解率は77%だった。\n",
        "\n",
        "以降、ハイパーパラメータチューニングとモデル評価を行うことで予測精度を改善する。"
      ]
    },
    {
      "cell_type": "markdown",
      "metadata": {
        "id": "r_uge2RnzHeD",
        "colab_type": "text"
      },
      "source": [
        "これまではscikit-learnのデフォルトのハイパーパラメータをそのまま使っていた。\n",
        "\n",
        "ここからは、下記の5つのハイパーパラメータを交差検証して予測精度を向上させる。\n",
        "\n",
        "bootstrap:訓練データの使われ方の設定を行うパラメータ（デフォルト＝True）\n",
        "\n",
        "max_depth:ランダムフォレスト内の決定木の深さを設定するパラメータ\n",
        "\n",
        "            ２層〜１００層までの設定を交差検証する。\n",
        "\n",
        "min_samples_leaf:分岐し終わったノードの最小サンプル数を指定\n",
        "\n",
        "min_samples_split:決定木が分岐する際に必要なサンプル数を指定\n",
        "\n",
        "n_estimators:**最も重要。**\n",
        "\n",
        "            ランダムフォレストで使用する決定木の本数を指定する。\n",
        "\n",
        "ハイパーパラメータの調整には、\n",
        "\n",
        "scikit-learnの[GridSearchCV]を使うと便利。\n",
        "\n",
        "⇨あらかじめ調整したいハイパーパラメータと評価指標を指定することで、各値を用いたモデルを訓練して交差検証を実行してくれる。\n",
        "\n"
      ]
    },
    {
      "cell_type": "code",
      "metadata": {
        "id": "I_cL-7lQw9b6",
        "colab_type": "code",
        "colab": {}
      },
      "source": [
        "#ランダムフォレストのハイパーパラメータを指定する\n",
        "#GridSearchCVの設定\n",
        "#交差検証したいハイパーパラメータの値をparam_gridとして辞書に格納する。\n",
        "#続いて、GridSearchCVのクラスへ必要なパラメータを渡す。\n",
        "param_grid = {'bootstrap' : [True],\n",
        "              'max_depth' : [2,3,5,10,20,100],\n",
        "              'min_samples_leaf' : [3,4,5],\n",
        "              'min_samples_split' : [8,10,12],\n",
        "              'n_estimators' : [100]}\n",
        "#グリッドサーチ（評価＝正解率）\n",
        "grid_searchlog = GridSearchCV(RF, param_grid, cv=5, scoring='accuracy')\n"
      ],
      "execution_count": 0,
      "outputs": []
    },
    {
      "cell_type": "code",
      "metadata": {
        "id": "AZEX9Gfnw9ew",
        "colab_type": "code",
        "colab": {}
      },
      "source": [
        "#最も正解率が高い値となるハイパーパラメータの組み合わせを算出\n",
        "grid_searchlog.fit(X_train,y_train)\n",
        "grid_searchlog.best_params_"
      ],
      "execution_count": 0,
      "outputs": []
    },
    {
      "cell_type": "code",
      "metadata": {
        "id": "bBzZm-jSw9ht",
        "colab_type": "code",
        "colab": {}
      },
      "source": [
        "optimated_rf = grid_searchlog.best_estimator_\n",
        "y_pred_final = optimated_rf.predict(test_set)"
      ],
      "execution_count": 0,
      "outputs": []
    },
    {
      "cell_type": "code",
      "metadata": {
        "id": "BTdqBh_F6iJ3",
        "colab_type": "code",
        "colab": {}
      },
      "source": [
        "my_solution = pd.DataFrame({'PassengerId' :PassengerID, 'Survived' :y_pred_final})\n",
        "my_solution = my_solution.set_index('PassengerId')\n",
        "my_solution.to_csv('submit_titanic_fin.csv')"
      ],
      "execution_count": 0,
      "outputs": []
    },
    {
      "cell_type": "code",
      "metadata": {
        "id": "mpwwMC516zMO",
        "colab_type": "code",
        "colab": {}
      },
      "source": [
        "from google.colab import files\n",
        "  \n",
        "files.download('submit_titanic_fin.csv')  "
      ],
      "execution_count": 0,
      "outputs": []
    },
    {
      "cell_type": "markdown",
      "metadata": {
        "id": "sjZmUaDywkQe",
        "colab_type": "text"
      },
      "source": [
        "終了！"
      ]
    }
  ]
}
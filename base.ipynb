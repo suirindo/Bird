{
  "nbformat": 4,
  "nbformat_minor": 0,
  "metadata": {
    "colab": {
      "name": "base.ipynb",
      "provenance": [],
      "include_colab_link": true
    },
    "kernelspec": {
      "name": "python3",
      "display_name": "Python 3"
    }
  },
  "cells": [
    {
      "cell_type": "markdown",
      "metadata": {
        "id": "view-in-github",
        "colab_type": "text"
      },
      "source": [
        "<a href=\"https://colab.research.google.com/github/suirindo/Bird/blob/master/base.ipynb\" target=\"_parent\"><img src=\"https://colab.research.google.com/assets/colab-badge.svg\" alt=\"Open In Colab\"/></a>"
      ]
    },
    {
      "cell_type": "code",
      "metadata": {
        "id": "bGzMEuwIemf-",
        "colab_type": "code",
        "colab": {
          "base_uri": "https://localhost:8080/",
          "height": 52
        },
        "outputId": "50633cd0-97f8-490f-ba8f-710586f6375f"
      },
      "source": [
        "!pip install -q PyGitHub\n",
        "\n",
        "from github import Github, GithubException\n",
        "import nbformat\n",
        "\n",
        "access_token = '368943178e6b6800d92dd3710b1b759ad2532112'\n",
        "\n",
        "repository_name = 'TestRepository' \n",
        "ipynb_file_name = 'test.ipynb'"
      ],
      "execution_count": 1,
      "outputs": [
        {
          "output_type": "stream",
          "text": [
            "\u001b[?25l\r\u001b[K     |███                             | 10kB 21.5MB/s eta 0:00:01\r\u001b[K     |██████                          | 20kB 3.2MB/s eta 0:00:01\r\u001b[K     |█████████                       | 30kB 4.7MB/s eta 0:00:01\r\u001b[K     |████████████                    | 40kB 3.0MB/s eta 0:00:01\r\u001b[K     |███████████████                 | 51kB 3.6MB/s eta 0:00:01\r\u001b[K     |██████████████████              | 61kB 4.3MB/s eta 0:00:01\r\u001b[K     |█████████████████████▏          | 71kB 4.9MB/s eta 0:00:01\r\u001b[K     |████████████████████████▏       | 81kB 5.6MB/s eta 0:00:01\r\u001b[K     |███████████████████████████▏    | 92kB 6.2MB/s eta 0:00:01\r\u001b[K     |██████████████████████████████▏ | 102kB 4.9MB/s eta 0:00:01\r\u001b[K     |████████████████████████████████| 112kB 4.9MB/s \n",
            "\u001b[?25h  Building wheel for PyGitHub (setup.py) ... \u001b[?25l\u001b[?25hdone\n"
          ],
          "name": "stdout"
        }
      ]
    },
    {
      "cell_type": "code",
      "metadata": {
        "id": "Nm3YEpwRfX9s",
        "colab_type": "code",
        "colab": {}
      },
      "source": [
        "github = Github(access_token)\n",
        "user = github.get_user()\n",
        "\n",
        "try:\n",
        "  user.create_repo(repository_name)\n",
        "except GithubException:\n",
        "  print(f'{repository_name} already exists on this account.')"
      ],
      "execution_count": 0,
      "outputs": []
    }
  ]
}